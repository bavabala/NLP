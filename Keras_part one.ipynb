{
 "cells": [
  {
   "cell_type": "code",
   "execution_count": 1,
   "metadata": {},
   "outputs": [],
   "source": [
    "import numpy as np"
   ]
  },
  {
   "cell_type": "code",
   "execution_count": 2,
   "metadata": {},
   "outputs": [],
   "source": [
    "from sklearn.datasets import load_iris"
   ]
  },
  {
   "cell_type": "code",
   "execution_count": 3,
   "metadata": {},
   "outputs": [],
   "source": [
    "iris = load_iris()"
   ]
  },
  {
   "cell_type": "code",
   "execution_count": 4,
   "metadata": {},
   "outputs": [
    {
     "data": {
      "text/plain": [
       "sklearn.utils.Bunch"
      ]
     },
     "execution_count": 4,
     "metadata": {},
     "output_type": "execute_result"
    }
   ],
   "source": [
    "type(iris)"
   ]
  },
  {
   "cell_type": "code",
   "execution_count": 5,
   "metadata": {},
   "outputs": [
    {
     "name": "stdout",
     "output_type": "stream",
     "text": [
      ".. _iris_dataset:\n",
      "\n",
      "Iris plants dataset\n",
      "--------------------\n",
      "\n",
      "**Data Set Characteristics:**\n",
      "\n",
      "    :Number of Instances: 150 (50 in each of three classes)\n",
      "    :Number of Attributes: 4 numeric, predictive attributes and the class\n",
      "    :Attribute Information:\n",
      "        - sepal length in cm\n",
      "        - sepal width in cm\n",
      "        - petal length in cm\n",
      "        - petal width in cm\n",
      "        - class:\n",
      "                - Iris-Setosa\n",
      "                - Iris-Versicolour\n",
      "                - Iris-Virginica\n",
      "                \n",
      "    :Summary Statistics:\n",
      "\n",
      "    ============== ==== ==== ======= ===== ====================\n",
      "                    Min  Max   Mean    SD   Class Correlation\n",
      "    ============== ==== ==== ======= ===== ====================\n",
      "    sepal length:   4.3  7.9   5.84   0.83    0.7826\n",
      "    sepal width:    2.0  4.4   3.05   0.43   -0.4194\n",
      "    petal length:   1.0  6.9   3.76   1.76    0.9490  (high!)\n",
      "    petal width:    0.1  2.5   1.20   0.76    0.9565  (high!)\n",
      "    ============== ==== ==== ======= ===== ====================\n",
      "\n",
      "    :Missing Attribute Values: None\n",
      "    :Class Distribution: 33.3% for each of 3 classes.\n",
      "    :Creator: R.A. Fisher\n",
      "    :Donor: Michael Marshall (MARSHALL%PLU@io.arc.nasa.gov)\n",
      "    :Date: July, 1988\n",
      "\n",
      "The famous Iris database, first used by Sir R.A. Fisher. The dataset is taken\n",
      "from Fisher's paper. Note that it's the same as in R, but not as in the UCI\n",
      "Machine Learning Repository, which has two wrong data points.\n",
      "\n",
      "This is perhaps the best known database to be found in the\n",
      "pattern recognition literature.  Fisher's paper is a classic in the field and\n",
      "is referenced frequently to this day.  (See Duda & Hart, for example.)  The\n",
      "data set contains 3 classes of 50 instances each, where each class refers to a\n",
      "type of iris plant.  One class is linearly separable from the other 2; the\n",
      "latter are NOT linearly separable from each other.\n",
      "\n",
      ".. topic:: References\n",
      "\n",
      "   - Fisher, R.A. \"The use of multiple measurements in taxonomic problems\"\n",
      "     Annual Eugenics, 7, Part II, 179-188 (1936); also in \"Contributions to\n",
      "     Mathematical Statistics\" (John Wiley, NY, 1950).\n",
      "   - Duda, R.O., & Hart, P.E. (1973) Pattern Classification and Scene Analysis.\n",
      "     (Q327.D83) John Wiley & Sons.  ISBN 0-471-22361-1.  See page 218.\n",
      "   - Dasarathy, B.V. (1980) \"Nosing Around the Neighborhood: A New System\n",
      "     Structure and Classification Rule for Recognition in Partially Exposed\n",
      "     Environments\".  IEEE Transactions on Pattern Analysis and Machine\n",
      "     Intelligence, Vol. PAMI-2, No. 1, 67-71.\n",
      "   - Gates, G.W. (1972) \"The Reduced Nearest Neighbor Rule\".  IEEE Transactions\n",
      "     on Information Theory, May 1972, 431-433.\n",
      "   - See also: 1988 MLC Proceedings, 54-64.  Cheeseman et al\"s AUTOCLASS II\n",
      "     conceptual clustering system finds 3 classes in the data.\n",
      "   - Many, many more ...\n"
     ]
    }
   ],
   "source": [
    "print(iris.DESCR)"
   ]
  },
  {
   "cell_type": "code",
   "execution_count": 6,
   "metadata": {},
   "outputs": [],
   "source": [
    "X = iris.data"
   ]
  },
  {
   "cell_type": "code",
   "execution_count": 7,
   "metadata": {},
   "outputs": [],
   "source": [
    "y = iris.target"
   ]
  },
  {
   "cell_type": "code",
   "execution_count": 8,
   "metadata": {},
   "outputs": [
    {
     "data": {
      "text/plain": [
       "array([0, 0, 0, 0, 0, 0, 0, 0, 0, 0, 0, 0, 0, 0, 0, 0, 0, 0, 0, 0, 0, 0,\n",
       "       0, 0, 0, 0, 0, 0, 0, 0, 0, 0, 0, 0, 0, 0, 0, 0, 0, 0, 0, 0, 0, 0,\n",
       "       0, 0, 0, 0, 0, 0, 1, 1, 1, 1, 1, 1, 1, 1, 1, 1, 1, 1, 1, 1, 1, 1,\n",
       "       1, 1, 1, 1, 1, 1, 1, 1, 1, 1, 1, 1, 1, 1, 1, 1, 1, 1, 1, 1, 1, 1,\n",
       "       1, 1, 1, 1, 1, 1, 1, 1, 1, 1, 1, 1, 2, 2, 2, 2, 2, 2, 2, 2, 2, 2,\n",
       "       2, 2, 2, 2, 2, 2, 2, 2, 2, 2, 2, 2, 2, 2, 2, 2, 2, 2, 2, 2, 2, 2,\n",
       "       2, 2, 2, 2, 2, 2, 2, 2, 2, 2, 2, 2, 2, 2, 2, 2, 2, 2])"
      ]
     },
     "execution_count": 8,
     "metadata": {},
     "output_type": "execute_result"
    }
   ],
   "source": [
    "y"
   ]
  },
  {
   "cell_type": "code",
   "execution_count": 9,
   "metadata": {},
   "outputs": [
    {
     "name": "stderr",
     "output_type": "stream",
     "text": [
      "Using TensorFlow backend.\n"
     ]
    }
   ],
   "source": [
    "from keras.utils import to_categorical"
   ]
  },
  {
   "cell_type": "code",
   "execution_count": 10,
   "metadata": {},
   "outputs": [],
   "source": [
    "y = to_categorical(y)"
   ]
  },
  {
   "cell_type": "code",
   "execution_count": 11,
   "metadata": {},
   "outputs": [
    {
     "data": {
      "text/plain": [
       "(150, 3)"
      ]
     },
     "execution_count": 11,
     "metadata": {},
     "output_type": "execute_result"
    }
   ],
   "source": [
    "y.shape"
   ]
  },
  {
   "cell_type": "code",
   "execution_count": 12,
   "metadata": {},
   "outputs": [],
   "source": [
    "from sklearn.model_selection import train_test_split"
   ]
  },
  {
   "cell_type": "code",
   "execution_count": 13,
   "metadata": {},
   "outputs": [],
   "source": [
    "X_train,X_test,y_train,y_test = train_test_split(X,y,random_state=42,test_size=0.33)"
   ]
  },
  {
   "cell_type": "code",
   "execution_count": 14,
   "metadata": {},
   "outputs": [],
   "source": [
    "from sklearn.preprocessing import MinMaxScaler # minmaxscaler is the range value of 0 to 1"
   ]
  },
  {
   "cell_type": "code",
   "execution_count": 15,
   "metadata": {},
   "outputs": [],
   "source": [
    "#np.array([50,100,150,200])/20"
   ]
  },
  {
   "cell_type": "code",
   "execution_count": 16,
   "metadata": {},
   "outputs": [],
   "source": [
    "scaler_object = MinMaxScaler()"
   ]
  },
  {
   "cell_type": "code",
   "execution_count": 17,
   "metadata": {},
   "outputs": [
    {
     "data": {
      "text/plain": [
       "MinMaxScaler(copy=True, feature_range=(0, 1))"
      ]
     },
     "execution_count": 17,
     "metadata": {},
     "output_type": "execute_result"
    }
   ],
   "source": [
    "scaler_object.fit(X_train)"
   ]
  },
  {
   "cell_type": "code",
   "execution_count": 18,
   "metadata": {},
   "outputs": [],
   "source": [
    "scaled_X_train = scaler_object.transform(X_train)"
   ]
  },
  {
   "cell_type": "code",
   "execution_count": 19,
   "metadata": {},
   "outputs": [],
   "source": [
    "scaled_X_test = scaler_object.transform(X_test)"
   ]
  },
  {
   "cell_type": "code",
   "execution_count": 20,
   "metadata": {},
   "outputs": [],
   "source": [
    "from keras.models import Sequential\n",
    "from keras.layers import Dense"
   ]
  },
  {
   "cell_type": "code",
   "execution_count": 21,
   "metadata": {},
   "outputs": [],
   "source": [
    "model = Sequential()\n",
    "model.add(Dense(8,input_dim=4,activation='relu'))\n",
    "model.add(Dense(8,input_dim=4,activation='relu'))\n",
    "model.add(Dense(3,activation='softmax'))\n",
    "model.compile(loss='categorical_crossentropy',optimizer='adam',metrics=['accuracy'])"
   ]
  },
  {
   "cell_type": "code",
   "execution_count": 22,
   "metadata": {
    "collapsed": true
   },
   "outputs": [
    {
     "name": "stdout",
     "output_type": "stream",
     "text": [
      "Model: \"sequential_1\"\n",
      "_________________________________________________________________\n",
      "Layer (type)                 Output Shape              Param #   \n",
      "=================================================================\n",
      "dense_1 (Dense)              (None, 8)                 40        \n",
      "_________________________________________________________________\n",
      "dense_2 (Dense)              (None, 8)                 72        \n",
      "_________________________________________________________________\n",
      "dense_3 (Dense)              (None, 3)                 27        \n",
      "=================================================================\n",
      "Total params: 139\n",
      "Trainable params: 139\n",
      "Non-trainable params: 0\n",
      "_________________________________________________________________\n"
     ]
    }
   ],
   "source": [
    "model.summary()"
   ]
  },
  {
   "cell_type": "code",
   "execution_count": 32,
   "metadata": {},
   "outputs": [
    {
     "name": "stdout",
     "output_type": "stream",
     "text": [
      "Epoch 1/150\n",
      " - 0s - loss: 0.7773 - accuracy: 0.6700\n",
      "Epoch 2/150\n",
      " - 0s - loss: 0.7679 - accuracy: 0.6900\n",
      "Epoch 3/150\n",
      " - 0s - loss: 0.7578 - accuracy: 0.6900\n",
      "Epoch 4/150\n",
      " - 0s - loss: 0.7486 - accuracy: 0.6700\n",
      "Epoch 5/150\n",
      " - 0s - loss: 0.7396 - accuracy: 0.6600\n",
      "Epoch 6/150\n",
      " - 0s - loss: 0.7307 - accuracy: 0.6500\n",
      "Epoch 7/150\n",
      " - 0s - loss: 0.7216 - accuracy: 0.6500\n",
      "Epoch 8/150\n",
      " - 0s - loss: 0.7130 - accuracy: 0.6600\n",
      "Epoch 9/150\n",
      " - 0s - loss: 0.7046 - accuracy: 0.6800\n",
      "Epoch 10/150\n",
      " - 0s - loss: 0.6958 - accuracy: 0.6800\n",
      "Epoch 11/150\n",
      " - 0s - loss: 0.6873 - accuracy: 0.6700\n",
      "Epoch 12/150\n",
      " - 0s - loss: 0.6791 - accuracy: 0.6600\n",
      "Epoch 13/150\n",
      " - 0s - loss: 0.6717 - accuracy: 0.6500\n",
      "Epoch 14/150\n",
      " - 0s - loss: 0.6642 - accuracy: 0.6500\n",
      "Epoch 15/150\n",
      " - 0s - loss: 0.6566 - accuracy: 0.6500\n",
      "Epoch 16/150\n",
      " - 0s - loss: 0.6493 - accuracy: 0.6700\n",
      "Epoch 17/150\n",
      " - 0s - loss: 0.6423 - accuracy: 0.6800\n",
      "Epoch 18/150\n",
      " - 0s - loss: 0.6355 - accuracy: 0.6900\n",
      "Epoch 19/150\n",
      " - 0s - loss: 0.6288 - accuracy: 0.6900\n",
      "Epoch 20/150\n",
      " - 0s - loss: 0.6221 - accuracy: 0.6900\n",
      "Epoch 21/150\n",
      " - 0s - loss: 0.6157 - accuracy: 0.6900\n",
      "Epoch 22/150\n",
      " - 0s - loss: 0.6093 - accuracy: 0.6900\n",
      "Epoch 23/150\n",
      " - 0s - loss: 0.6031 - accuracy: 0.6900\n",
      "Epoch 24/150\n",
      " - 0s - loss: 0.5972 - accuracy: 0.6900\n",
      "Epoch 25/150\n",
      " - 0s - loss: 0.5916 - accuracy: 0.6900\n",
      "Epoch 26/150\n",
      " - 0s - loss: 0.5857 - accuracy: 0.7000\n",
      "Epoch 27/150\n",
      " - 0s - loss: 0.5807 - accuracy: 0.7200\n",
      "Epoch 28/150\n",
      " - 0s - loss: 0.5755 - accuracy: 0.7200\n",
      "Epoch 29/150\n",
      " - 0s - loss: 0.5700 - accuracy: 0.7100\n",
      "Epoch 30/150\n",
      " - 0s - loss: 0.5651 - accuracy: 0.7000\n",
      "Epoch 31/150\n",
      " - 0s - loss: 0.5605 - accuracy: 0.7100\n",
      "Epoch 32/150\n",
      " - 0s - loss: 0.5559 - accuracy: 0.7100\n",
      "Epoch 33/150\n",
      " - 0s - loss: 0.5514 - accuracy: 0.7200\n",
      "Epoch 34/150\n",
      " - 0s - loss: 0.5473 - accuracy: 0.7200\n",
      "Epoch 35/150\n",
      " - 0s - loss: 0.5429 - accuracy: 0.7100\n",
      "Epoch 36/150\n",
      " - 0s - loss: 0.5388 - accuracy: 0.7200\n",
      "Epoch 37/150\n",
      " - 0s - loss: 0.5346 - accuracy: 0.7200\n",
      "Epoch 38/150\n",
      " - 0s - loss: 0.5307 - accuracy: 0.7300\n",
      "Epoch 39/150\n",
      " - 0s - loss: 0.5270 - accuracy: 0.7300\n",
      "Epoch 40/150\n",
      " - 0s - loss: 0.5232 - accuracy: 0.7300\n",
      "Epoch 41/150\n",
      " - 0s - loss: 0.5195 - accuracy: 0.7400\n",
      "Epoch 42/150\n",
      " - 0s - loss: 0.5159 - accuracy: 0.7600\n",
      "Epoch 43/150\n",
      " - 0s - loss: 0.5126 - accuracy: 0.7700\n",
      "Epoch 44/150\n",
      " - 0s - loss: 0.5091 - accuracy: 0.7600\n",
      "Epoch 45/150\n",
      " - 0s - loss: 0.5057 - accuracy: 0.7600\n",
      "Epoch 46/150\n",
      " - 0s - loss: 0.5024 - accuracy: 0.7600\n",
      "Epoch 47/150\n",
      " - 0s - loss: 0.4990 - accuracy: 0.8000\n",
      "Epoch 48/150\n",
      " - 0s - loss: 0.4958 - accuracy: 0.8100\n",
      "Epoch 49/150\n",
      " - 0s - loss: 0.4927 - accuracy: 0.8600\n",
      "Epoch 50/150\n",
      " - 0s - loss: 0.4898 - accuracy: 0.8700\n",
      "Epoch 51/150\n",
      " - 0s - loss: 0.4866 - accuracy: 0.8700\n",
      "Epoch 52/150\n",
      " - 0s - loss: 0.4835 - accuracy: 0.8600\n",
      "Epoch 53/150\n",
      " - 0s - loss: 0.4803 - accuracy: 0.8700\n",
      "Epoch 54/150\n",
      " - 0s - loss: 0.4773 - accuracy: 0.8700\n",
      "Epoch 55/150\n",
      " - 0s - loss: 0.4744 - accuracy: 0.8800\n",
      "Epoch 56/150\n",
      " - 0s - loss: 0.4714 - accuracy: 0.8800\n",
      "Epoch 57/150\n",
      " - 0s - loss: 0.4686 - accuracy: 0.8800\n",
      "Epoch 58/150\n",
      " - 0s - loss: 0.4656 - accuracy: 0.8900\n",
      "Epoch 59/150\n",
      " - 0s - loss: 0.4626 - accuracy: 0.9000\n",
      "Epoch 60/150\n",
      " - 0s - loss: 0.4599 - accuracy: 0.9200\n",
      "Epoch 61/150\n",
      " - 0s - loss: 0.4568 - accuracy: 0.9200\n",
      "Epoch 62/150\n",
      " - 0s - loss: 0.4534 - accuracy: 0.9200\n",
      "Epoch 63/150\n",
      " - 0s - loss: 0.4511 - accuracy: 0.9000\n",
      "Epoch 64/150\n",
      " - 0s - loss: 0.4478 - accuracy: 0.9000\n",
      "Epoch 65/150\n",
      " - 0s - loss: 0.4452 - accuracy: 0.9200\n",
      "Epoch 66/150\n",
      " - 0s - loss: 0.4421 - accuracy: 0.9300\n",
      "Epoch 67/150\n",
      " - 0s - loss: 0.4393 - accuracy: 0.9300\n",
      "Epoch 68/150\n",
      " - 0s - loss: 0.4365 - accuracy: 0.9300\n",
      "Epoch 69/150\n",
      " - 0s - loss: 0.4338 - accuracy: 0.9300\n",
      "Epoch 70/150\n",
      " - 0s - loss: 0.4310 - accuracy: 0.9400\n",
      "Epoch 71/150\n",
      " - 0s - loss: 0.4280 - accuracy: 0.9300\n",
      "Epoch 72/150\n",
      " - 0s - loss: 0.4253 - accuracy: 0.9300\n",
      "Epoch 73/150\n",
      " - 0s - loss: 0.4222 - accuracy: 0.9300\n",
      "Epoch 74/150\n",
      " - 0s - loss: 0.4196 - accuracy: 0.9300\n",
      "Epoch 75/150\n",
      " - 0s - loss: 0.4169 - accuracy: 0.9300\n",
      "Epoch 76/150\n",
      " - 0s - loss: 0.4142 - accuracy: 0.9300\n",
      "Epoch 77/150\n",
      " - 0s - loss: 0.4116 - accuracy: 0.9300\n",
      "Epoch 78/150\n",
      " - 0s - loss: 0.4090 - accuracy: 0.9300\n",
      "Epoch 79/150\n",
      " - 0s - loss: 0.4065 - accuracy: 0.9300\n",
      "Epoch 80/150\n",
      " - 0s - loss: 0.4041 - accuracy: 0.9300\n",
      "Epoch 81/150\n",
      " - 0s - loss: 0.4014 - accuracy: 0.9300\n",
      "Epoch 82/150\n",
      " - 0s - loss: 0.3980 - accuracy: 0.9300\n",
      "Epoch 83/150\n",
      " - 0s - loss: 0.3948 - accuracy: 0.9300\n",
      "Epoch 84/150\n",
      " - 0s - loss: 0.3923 - accuracy: 0.9400\n",
      "Epoch 85/150\n",
      " - 0s - loss: 0.3887 - accuracy: 0.9400\n",
      "Epoch 86/150\n",
      " - 0s - loss: 0.3862 - accuracy: 0.9400\n",
      "Epoch 87/150\n",
      " - 0s - loss: 0.3837 - accuracy: 0.9400\n",
      "Epoch 88/150\n",
      " - 0s - loss: 0.3813 - accuracy: 0.9400\n",
      "Epoch 89/150\n",
      " - 0s - loss: 0.3788 - accuracy: 0.9400\n",
      "Epoch 90/150\n",
      " - 0s - loss: 0.3758 - accuracy: 0.9400\n",
      "Epoch 91/150\n",
      " - 0s - loss: 0.3735 - accuracy: 0.9400\n",
      "Epoch 92/150\n",
      " - 0s - loss: 0.3707 - accuracy: 0.9400\n",
      "Epoch 93/150\n",
      " - 0s - loss: 0.3684 - accuracy: 0.9500\n",
      "Epoch 94/150\n",
      " - 0s - loss: 0.3661 - accuracy: 0.9600\n",
      "Epoch 95/150\n",
      " - 0s - loss: 0.3631 - accuracy: 0.9600\n",
      "Epoch 96/150\n",
      " - 0s - loss: 0.3593 - accuracy: 0.9500\n",
      "Epoch 97/150\n",
      " - 0s - loss: 0.3566 - accuracy: 0.9500\n",
      "Epoch 98/150\n",
      " - 0s - loss: 0.3542 - accuracy: 0.9400\n",
      "Epoch 99/150\n",
      " - 0s - loss: 0.3513 - accuracy: 0.9400\n",
      "Epoch 100/150\n",
      " - 0s - loss: 0.3488 - accuracy: 0.9500\n",
      "Epoch 101/150\n",
      " - 0s - loss: 0.3463 - accuracy: 0.9500\n",
      "Epoch 102/150\n",
      " - 0s - loss: 0.3439 - accuracy: 0.9600\n",
      "Epoch 103/150\n",
      " - 0s - loss: 0.3412 - accuracy: 0.9600\n",
      "Epoch 104/150\n",
      " - 0s - loss: 0.3385 - accuracy: 0.9600\n",
      "Epoch 105/150\n",
      " - 0s - loss: 0.3358 - accuracy: 0.9600\n",
      "Epoch 106/150\n",
      " - 0s - loss: 0.3332 - accuracy: 0.9600\n",
      "Epoch 107/150\n",
      " - 0s - loss: 0.3307 - accuracy: 0.9500\n",
      "Epoch 108/150\n",
      " - 0s - loss: 0.3281 - accuracy: 0.9500\n",
      "Epoch 109/150\n",
      " - 0s - loss: 0.3258 - accuracy: 0.9500\n",
      "Epoch 110/150\n",
      " - 0s - loss: 0.3230 - accuracy: 0.9500\n",
      "Epoch 111/150\n",
      " - 0s - loss: 0.3205 - accuracy: 0.9500\n",
      "Epoch 112/150\n",
      " - 0s - loss: 0.3177 - accuracy: 0.9500\n",
      "Epoch 113/150\n",
      " - 0s - loss: 0.3168 - accuracy: 0.9500\n",
      "Epoch 114/150\n",
      " - 0s - loss: 0.3140 - accuracy: 0.9500\n",
      "Epoch 115/150\n",
      " - 0s - loss: 0.3106 - accuracy: 0.9600\n",
      "Epoch 116/150\n",
      " - 0s - loss: 0.3084 - accuracy: 0.9600\n",
      "Epoch 117/150\n",
      " - 0s - loss: 0.3054 - accuracy: 0.9600\n",
      "Epoch 118/150\n",
      " - 0s - loss: 0.3032 - accuracy: 0.9600\n",
      "Epoch 119/150\n",
      " - 0s - loss: 0.3006 - accuracy: 0.9600\n",
      "Epoch 120/150\n",
      " - 0s - loss: 0.2977 - accuracy: 0.9500\n",
      "Epoch 121/150\n",
      " - 0s - loss: 0.2948 - accuracy: 0.9600\n",
      "Epoch 122/150\n",
      " - 0s - loss: 0.2932 - accuracy: 0.9600\n",
      "Epoch 123/150\n",
      " - 0s - loss: 0.2910 - accuracy: 0.9600\n",
      "Epoch 124/150\n",
      " - 0s - loss: 0.2880 - accuracy: 0.9600\n",
      "Epoch 125/150\n",
      " - 0s - loss: 0.2859 - accuracy: 0.9600\n",
      "Epoch 126/150\n",
      " - 0s - loss: 0.2830 - accuracy: 0.9500\n",
      "Epoch 127/150\n",
      " - 0s - loss: 0.2806 - accuracy: 0.9500\n",
      "Epoch 128/150\n",
      " - 0s - loss: 0.2781 - accuracy: 0.9500\n",
      "Epoch 129/150\n",
      " - 0s - loss: 0.2778 - accuracy: 0.9600\n",
      "Epoch 130/150\n",
      " - 0s - loss: 0.2755 - accuracy: 0.9600\n",
      "Epoch 131/150\n",
      " - 0s - loss: 0.2717 - accuracy: 0.9600\n",
      "Epoch 132/150\n",
      " - 0s - loss: 0.2689 - accuracy: 0.9500\n",
      "Epoch 133/150\n",
      " - 0s - loss: 0.2668 - accuracy: 0.9600\n",
      "Epoch 134/150\n",
      " - 0s - loss: 0.2649 - accuracy: 0.9600\n",
      "Epoch 135/150\n",
      " - 0s - loss: 0.2629 - accuracy: 0.9600\n",
      "Epoch 136/150\n",
      " - 0s - loss: 0.2605 - accuracy: 0.9600\n",
      "Epoch 137/150\n",
      " - 0s - loss: 0.2590 - accuracy: 0.9600\n",
      "Epoch 138/150\n",
      " - 0s - loss: 0.2573 - accuracy: 0.9600\n",
      "Epoch 139/150\n",
      " - 0s - loss: 0.2544 - accuracy: 0.9600\n",
      "Epoch 140/150\n",
      " - 0s - loss: 0.2519 - accuracy: 0.9600\n",
      "Epoch 141/150\n",
      " - 0s - loss: 0.2502 - accuracy: 0.9500\n",
      "Epoch 142/150\n",
      " - 0s - loss: 0.2478 - accuracy: 0.9500\n",
      "Epoch 143/150\n",
      " - 0s - loss: 0.2456 - accuracy: 0.9500\n",
      "Epoch 144/150\n",
      " - 0s - loss: 0.2447 - accuracy: 0.9600\n",
      "Epoch 145/150\n",
      " - 0s - loss: 0.2423 - accuracy: 0.9600\n",
      "Epoch 146/150\n",
      " - 0s - loss: 0.2400 - accuracy: 0.9600\n",
      "Epoch 147/150\n",
      " - 0s - loss: 0.2377 - accuracy: 0.9500\n",
      "Epoch 148/150\n",
      " - 0s - loss: 0.2358 - accuracy: 0.9600\n",
      "Epoch 149/150\n",
      " - 0s - loss: 0.2340 - accuracy: 0.9600\n",
      "Epoch 150/150\n",
      " - 0s - loss: 0.2327 - accuracy: 0.9600\n"
     ]
    },
    {
     "data": {
      "text/plain": [
       "<keras.callbacks.callbacks.History at 0x2c929a75648>"
      ]
     },
     "execution_count": 32,
     "metadata": {},
     "output_type": "execute_result"
    }
   ],
   "source": [
    "model.fit(scaled_X_train,y_train,epochs=150,verbose=2) #epoch is input,verbose is output information"
   ]
  },
  {
   "cell_type": "code",
   "execution_count": 33,
   "metadata": {},
   "outputs": [
    {
     "data": {
      "text/plain": [
       "array([1, 0, 2, 1, 1, 0, 1, 2, 2, 1, 2, 0, 0, 0, 0, 1, 2, 1, 1, 2, 0, 2,\n",
       "       0, 2, 2, 2, 2, 2, 0, 0, 0, 0, 1, 0, 0, 2, 1, 0, 0, 0, 2, 1, 1, 0,\n",
       "       0, 1, 1, 2, 1, 2], dtype=int64)"
      ]
     },
     "execution_count": 33,
     "metadata": {},
     "output_type": "execute_result"
    }
   ],
   "source": [
    "model.predict_classes(scaled_X_test)"
   ]
  },
  {
   "cell_type": "code",
   "execution_count": 34,
   "metadata": {},
   "outputs": [],
   "source": [
    "predictions = model.predict_classes(scaled_X_test)"
   ]
  },
  {
   "cell_type": "code",
   "execution_count": 35,
   "metadata": {},
   "outputs": [
    {
     "data": {
      "text/plain": [
       "array([1, 0, 2, 1, 1, 0, 1, 2, 1, 1, 2, 0, 0, 0, 0, 1, 2, 1, 1, 2, 0, 2,\n",
       "       0, 2, 2, 2, 2, 2, 0, 0, 0, 0, 1, 0, 0, 2, 1, 0, 0, 0, 2, 1, 1, 0,\n",
       "       0, 1, 2, 2, 1, 2], dtype=int64)"
      ]
     },
     "execution_count": 35,
     "metadata": {},
     "output_type": "execute_result"
    }
   ],
   "source": [
    "y_test.argmax(axis=1)"
   ]
  },
  {
   "cell_type": "code",
   "execution_count": 36,
   "metadata": {},
   "outputs": [],
   "source": [
    "from sklearn.metrics import confusion_matrix,classification_report,accuracy_score"
   ]
  },
  {
   "cell_type": "code",
   "execution_count": 37,
   "metadata": {},
   "outputs": [
    {
     "data": {
      "text/plain": [
       "array([[19,  0,  0],\n",
       "       [ 0, 14,  1],\n",
       "       [ 0,  1, 15]], dtype=int64)"
      ]
     },
     "execution_count": 37,
     "metadata": {},
     "output_type": "execute_result"
    }
   ],
   "source": [
    "confusion_matrix(y_test.argmax(axis=1),predictions)"
   ]
  },
  {
   "cell_type": "code",
   "execution_count": 38,
   "metadata": {},
   "outputs": [
    {
     "name": "stdout",
     "output_type": "stream",
     "text": [
      "              precision    recall  f1-score   support\n",
      "\n",
      "           0       1.00      1.00      1.00        19\n",
      "           1       0.93      0.93      0.93        15\n",
      "           2       0.94      0.94      0.94        16\n",
      "\n",
      "    accuracy                           0.96        50\n",
      "   macro avg       0.96      0.96      0.96        50\n",
      "weighted avg       0.96      0.96      0.96        50\n",
      "\n"
     ]
    }
   ],
   "source": [
    "print(classification_report(y_test.argmax(axis=1),predictions))"
   ]
  },
  {
   "cell_type": "code",
   "execution_count": 39,
   "metadata": {},
   "outputs": [
    {
     "data": {
      "text/plain": [
       "0.96"
      ]
     },
     "execution_count": 39,
     "metadata": {},
     "output_type": "execute_result"
    }
   ],
   "source": [
    "accuracy_score(y_test.argmax(axis=1),predictions)"
   ]
  },
  {
   "cell_type": "code",
   "execution_count": 40,
   "metadata": {},
   "outputs": [],
   "source": [
    "model.save('myfirstmodel.h5')"
   ]
  },
  {
   "cell_type": "code",
   "execution_count": 42,
   "metadata": {},
   "outputs": [],
   "source": [
    "from keras.models import load_model"
   ]
  },
  {
   "cell_type": "code",
   "execution_count": 43,
   "metadata": {},
   "outputs": [],
   "source": [
    "new_model = load_model('myfirstmodel.h5')"
   ]
  },
  {
   "cell_type": "code",
   "execution_count": 45,
   "metadata": {},
   "outputs": [
    {
     "data": {
      "text/plain": [
       "array([1, 0, 2, 1, 1, 0, 1, 2, 2, 1, 2, 0, 0, 0, 0, 1, 2, 1, 1, 2, 0, 2,\n",
       "       0, 2, 2, 2, 2, 2, 0, 0, 0, 0, 1, 0, 0, 2, 1, 0, 0, 0, 2, 1, 1, 0,\n",
       "       0, 1, 1, 2, 1, 2], dtype=int64)"
      ]
     },
     "execution_count": 45,
     "metadata": {},
     "output_type": "execute_result"
    }
   ],
   "source": [
    "new_model.predict_classes(scaled_X_test)"
   ]
  },
  {
   "cell_type": "code",
   "execution_count": null,
   "metadata": {},
   "outputs": [],
   "source": []
  }
 ],
 "metadata": {
  "kernelspec": {
   "display_name": "Python 3",
   "language": "python",
   "name": "python3"
  },
  "language_info": {
   "codemirror_mode": {
    "name": "ipython",
    "version": 3
   },
   "file_extension": ".py",
   "mimetype": "text/x-python",
   "name": "python",
   "nbconvert_exporter": "python",
   "pygments_lexer": "ipython3",
   "version": "3.7.4"
  }
 },
 "nbformat": 4,
 "nbformat_minor": 2
}
