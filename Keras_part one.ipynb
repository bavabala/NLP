{
 "cells": [
  {
   "cell_type": "code",
   "execution_count": 1,
   "metadata": {},
   "outputs": [],
   "source": [
    "import numpy as np"
   ]
  },
  {
   "cell_type": "code",
   "execution_count": 2,
   "metadata": {},
   "outputs": [],
   "source": [
    "from sklearn.datasets import load_iris"
   ]
  },
  {
   "cell_type": "code",
   "execution_count": 3,
   "metadata": {},
   "outputs": [],
   "source": [
    "iris = load_iris()"
   ]
  },
  {
   "cell_type": "code",
   "execution_count": 4,
   "metadata": {},
   "outputs": [
    {
     "data": {
      "text/plain": [
       "sklearn.utils.Bunch"
      ]
     },
     "execution_count": 4,
     "metadata": {},
     "output_type": "execute_result"
    }
   ],
   "source": [
    "type(iris)"
   ]
  },
  {
   "cell_type": "code",
   "execution_count": 5,
   "metadata": {},
   "outputs": [
    {
     "name": "stdout",
     "output_type": "stream",
     "text": [
      ".. _iris_dataset:\n",
      "\n",
      "Iris plants dataset\n",
      "--------------------\n",
      "\n",
      "**Data Set Characteristics:**\n",
      "\n",
      "    :Number of Instances: 150 (50 in each of three classes)\n",
      "    :Number of Attributes: 4 numeric, predictive attributes and the class\n",
      "    :Attribute Information:\n",
      "        - sepal length in cm\n",
      "        - sepal width in cm\n",
      "        - petal length in cm\n",
      "        - petal width in cm\n",
      "        - class:\n",
      "                - Iris-Setosa\n",
      "                - Iris-Versicolour\n",
      "                - Iris-Virginica\n",
      "                \n",
      "    :Summary Statistics:\n",
      "\n",
      "    ============== ==== ==== ======= ===== ====================\n",
      "                    Min  Max   Mean    SD   Class Correlation\n",
      "    ============== ==== ==== ======= ===== ====================\n",
      "    sepal length:   4.3  7.9   5.84   0.83    0.7826\n",
      "    sepal width:    2.0  4.4   3.05   0.43   -0.4194\n",
      "    petal length:   1.0  6.9   3.76   1.76    0.9490  (high!)\n",
      "    petal width:    0.1  2.5   1.20   0.76    0.9565  (high!)\n",
      "    ============== ==== ==== ======= ===== ====================\n",
      "\n",
      "    :Missing Attribute Values: None\n",
      "    :Class Distribution: 33.3% for each of 3 classes.\n",
      "    :Creator: R.A. Fisher\n",
      "    :Donor: Michael Marshall (MARSHALL%PLU@io.arc.nasa.gov)\n",
      "    :Date: July, 1988\n",
      "\n",
      "The famous Iris database, first used by Sir R.A. Fisher. The dataset is taken\n",
      "from Fisher's paper. Note that it's the same as in R, but not as in the UCI\n",
      "Machine Learning Repository, which has two wrong data points.\n",
      "\n",
      "This is perhaps the best known database to be found in the\n",
      "pattern recognition literature.  Fisher's paper is a classic in the field and\n",
      "is referenced frequently to this day.  (See Duda & Hart, for example.)  The\n",
      "data set contains 3 classes of 50 instances each, where each class refers to a\n",
      "type of iris plant.  One class is linearly separable from the other 2; the\n",
      "latter are NOT linearly separable from each other.\n",
      "\n",
      ".. topic:: References\n",
      "\n",
      "   - Fisher, R.A. \"The use of multiple measurements in taxonomic problems\"\n",
      "     Annual Eugenics, 7, Part II, 179-188 (1936); also in \"Contributions to\n",
      "     Mathematical Statistics\" (John Wiley, NY, 1950).\n",
      "   - Duda, R.O., & Hart, P.E. (1973) Pattern Classification and Scene Analysis.\n",
      "     (Q327.D83) John Wiley & Sons.  ISBN 0-471-22361-1.  See page 218.\n",
      "   - Dasarathy, B.V. (1980) \"Nosing Around the Neighborhood: A New System\n",
      "     Structure and Classification Rule for Recognition in Partially Exposed\n",
      "     Environments\".  IEEE Transactions on Pattern Analysis and Machine\n",
      "     Intelligence, Vol. PAMI-2, No. 1, 67-71.\n",
      "   - Gates, G.W. (1972) \"The Reduced Nearest Neighbor Rule\".  IEEE Transactions\n",
      "     on Information Theory, May 1972, 431-433.\n",
      "   - See also: 1988 MLC Proceedings, 54-64.  Cheeseman et al\"s AUTOCLASS II\n",
      "     conceptual clustering system finds 3 classes in the data.\n",
      "   - Many, many more ...\n"
     ]
    }
   ],
   "source": [
    "print(iris.DESCR)"
   ]
  },
  {
   "cell_type": "code",
   "execution_count": 6,
   "metadata": {},
   "outputs": [],
   "source": [
    "X = iris.data"
   ]
  },
  {
   "cell_type": "code",
   "execution_count": 7,
   "metadata": {},
   "outputs": [],
   "source": [
    "y = iris.target"
   ]
  },
  {
   "cell_type": "code",
   "execution_count": 8,
   "metadata": {},
   "outputs": [
    {
     "data": {
      "text/plain": [
       "array([0, 0, 0, 0, 0, 0, 0, 0, 0, 0, 0, 0, 0, 0, 0, 0, 0, 0, 0, 0, 0, 0,\n",
       "       0, 0, 0, 0, 0, 0, 0, 0, 0, 0, 0, 0, 0, 0, 0, 0, 0, 0, 0, 0, 0, 0,\n",
       "       0, 0, 0, 0, 0, 0, 1, 1, 1, 1, 1, 1, 1, 1, 1, 1, 1, 1, 1, 1, 1, 1,\n",
       "       1, 1, 1, 1, 1, 1, 1, 1, 1, 1, 1, 1, 1, 1, 1, 1, 1, 1, 1, 1, 1, 1,\n",
       "       1, 1, 1, 1, 1, 1, 1, 1, 1, 1, 1, 1, 2, 2, 2, 2, 2, 2, 2, 2, 2, 2,\n",
       "       2, 2, 2, 2, 2, 2, 2, 2, 2, 2, 2, 2, 2, 2, 2, 2, 2, 2, 2, 2, 2, 2,\n",
       "       2, 2, 2, 2, 2, 2, 2, 2, 2, 2, 2, 2, 2, 2, 2, 2, 2, 2])"
      ]
     },
     "execution_count": 8,
     "metadata": {},
     "output_type": "execute_result"
    }
   ],
   "source": [
    "y"
   ]
  },
  {
   "cell_type": "code",
   "execution_count": 9,
   "metadata": {},
   "outputs": [
    {
     "name": "stderr",
     "output_type": "stream",
     "text": [
      "Using TensorFlow backend.\n"
     ]
    }
   ],
   "source": [
    "from keras.utils import to_categorical"
   ]
  },
  {
   "cell_type": "code",
   "execution_count": 10,
   "metadata": {},
   "outputs": [],
   "source": [
    "y = to_categorical(y)"
   ]
  },
  {
   "cell_type": "code",
   "execution_count": 11,
   "metadata": {},
   "outputs": [
    {
     "data": {
      "text/plain": [
       "(150, 3)"
      ]
     },
     "execution_count": 11,
     "metadata": {},
     "output_type": "execute_result"
    }
   ],
   "source": [
    "y.shape"
   ]
  },
  {
   "cell_type": "code",
   "execution_count": 12,
   "metadata": {},
   "outputs": [],
   "source": [
    "from sklearn.model_selection import train_test_split"
   ]
  },
  {
   "cell_type": "code",
   "execution_count": 13,
   "metadata": {},
   "outputs": [],
   "source": [
    "X_train,X_test,y_train,y_test = train_test_split(X,y,random_state=42,test_size=0.33)"
   ]
  },
  {
   "cell_type": "code",
   "execution_count": 14,
   "metadata": {},
   "outputs": [],
   "source": [
    "from sklearn.preprocessing import MinMaxScaler # minmaxscaler is the range value of 0 to 1"
   ]
  },
  {
   "cell_type": "code",
   "execution_count": 15,
   "metadata": {},
   "outputs": [],
   "source": [
    "#np.array([50,100,150,200])/20"
   ]
  },
  {
   "cell_type": "code",
   "execution_count": 16,
   "metadata": {},
   "outputs": [],
   "source": [
    "scaler_object = MinMaxScaler()"
   ]
  },
  {
   "cell_type": "code",
   "execution_count": 17,
   "metadata": {},
   "outputs": [
    {
     "data": {
      "text/plain": [
       "MinMaxScaler(copy=True, feature_range=(0, 1))"
      ]
     },
     "execution_count": 17,
     "metadata": {},
     "output_type": "execute_result"
    }
   ],
   "source": [
    "scaler_object.fit(X_train)"
   ]
  },
  {
   "cell_type": "code",
   "execution_count": 18,
   "metadata": {},
   "outputs": [],
   "source": [
    "scaled_X_train = scaler_object.transform(X_train)"
   ]
  },
  {
   "cell_type": "code",
   "execution_count": 19,
   "metadata": {},
   "outputs": [],
   "source": [
    "scaled_X_test = scaler_object.transform(X_test)"
   ]
  },
  {
   "cell_type": "code",
   "execution_count": 20,
   "metadata": {},
   "outputs": [],
   "source": [
    "from keras.models import Sequential\n",
    "from keras.layers import Dense"
   ]
  },
  {
   "cell_type": "code",
   "execution_count": 21,
   "metadata": {},
   "outputs": [],
   "source": [
    "model = Sequential()\n",
    "model.add(Dense(8,input_dim=4,activation='relu'))\n",
    "model.add(Dense(8,input_dim=4,activation='relu'))\n",
    "model.add(Dense(3,activation='softmax'))\n",
    "model.compile(loss='categorical_crossentropy',optimizer='adam',metrics=['accuracy'])"
   ]
  },
  {
   "cell_type": "code",
   "execution_count": 22,
   "metadata": {},
   "outputs": [
    {
     "name": "stdout",
     "output_type": "stream",
     "text": [
      "Model: \"sequential_1\"\n",
      "_________________________________________________________________\n",
      "Layer (type)                 Output Shape              Param #   \n",
      "=================================================================\n",
      "dense_1 (Dense)              (None, 8)                 40        \n",
      "_________________________________________________________________\n",
      "dense_2 (Dense)              (None, 8)                 72        \n",
      "_________________________________________________________________\n",
      "dense_3 (Dense)              (None, 3)                 27        \n",
      "=================================================================\n",
      "Total params: 139\n",
      "Trainable params: 139\n",
      "Non-trainable params: 0\n",
      "_________________________________________________________________\n"
     ]
    }
   ],
   "source": [
    "model.summary()"
   ]
  },
  {
   "cell_type": "code",
   "execution_count": 23,
   "metadata": {},
   "outputs": [
    {
     "name": "stdout",
     "output_type": "stream",
     "text": [
      "Epoch 1/50\n",
      " - 1s - loss: 1.2490 - accuracy: 0.3100\n",
      "Epoch 2/50\n",
      " - 0s - loss: 1.2337 - accuracy: 0.3100\n",
      "Epoch 3/50\n",
      " - 0s - loss: 1.2205 - accuracy: 0.3100\n",
      "Epoch 4/50\n",
      " - 0s - loss: 1.2068 - accuracy: 0.3000\n",
      "Epoch 5/50\n",
      " - 0s - loss: 1.1939 - accuracy: 0.3000\n",
      "Epoch 6/50\n",
      " - 0s - loss: 1.1820 - accuracy: 0.3000\n",
      "Epoch 7/50\n",
      " - 0s - loss: 1.1700 - accuracy: 0.3000\n",
      "Epoch 8/50\n",
      " - 0s - loss: 1.1586 - accuracy: 0.3000\n",
      "Epoch 9/50\n",
      " - 0s - loss: 1.1476 - accuracy: 0.3000\n",
      "Epoch 10/50\n",
      " - 0s - loss: 1.1383 - accuracy: 0.3000\n",
      "Epoch 11/50\n",
      " - 0s - loss: 1.1287 - accuracy: 0.2900\n",
      "Epoch 12/50\n",
      " - 0s - loss: 1.1199 - accuracy: 0.2900\n",
      "Epoch 13/50\n",
      " - 0s - loss: 1.1114 - accuracy: 0.2900\n",
      "Epoch 14/50\n",
      " - 0s - loss: 1.1036 - accuracy: 0.2900\n",
      "Epoch 15/50\n",
      " - 0s - loss: 1.0956 - accuracy: 0.2900\n",
      "Epoch 16/50\n",
      " - 0s - loss: 1.0880 - accuracy: 0.2900\n",
      "Epoch 17/50\n",
      " - 0s - loss: 1.0807 - accuracy: 0.3300\n",
      "Epoch 18/50\n",
      " - 0s - loss: 1.0732 - accuracy: 0.4700\n",
      "Epoch 19/50\n",
      " - 0s - loss: 1.0661 - accuracy: 0.5700\n",
      "Epoch 20/50\n",
      " - 0s - loss: 1.0587 - accuracy: 0.6300\n",
      "Epoch 21/50\n",
      " - 0s - loss: 1.0517 - accuracy: 0.6500\n",
      "Epoch 22/50\n",
      " - 0s - loss: 1.0444 - accuracy: 0.6500\n",
      "Epoch 23/50\n",
      " - 0s - loss: 1.0374 - accuracy: 0.6500\n",
      "Epoch 24/50\n",
      " - 0s - loss: 1.0299 - accuracy: 0.6500\n",
      "Epoch 25/50\n",
      " - 0s - loss: 1.0223 - accuracy: 0.6500\n",
      "Epoch 26/50\n",
      " - 0s - loss: 1.0148 - accuracy: 0.6700\n",
      "Epoch 27/50\n",
      " - 0s - loss: 1.0069 - accuracy: 0.6700\n",
      "Epoch 28/50\n",
      " - 0s - loss: 0.9988 - accuracy: 0.6700\n",
      "Epoch 29/50\n",
      " - 0s - loss: 0.9905 - accuracy: 0.6700\n",
      "Epoch 30/50\n",
      " - 0s - loss: 0.9820 - accuracy: 0.6700\n",
      "Epoch 31/50\n",
      " - 0s - loss: 0.9732 - accuracy: 0.6500\n",
      "Epoch 32/50\n",
      " - 0s - loss: 0.9640 - accuracy: 0.6400\n",
      "Epoch 33/50\n",
      " - 0s - loss: 0.9550 - accuracy: 0.6500\n",
      "Epoch 34/50\n",
      " - 0s - loss: 0.9457 - accuracy: 0.6500\n",
      "Epoch 35/50\n",
      " - 0s - loss: 0.9358 - accuracy: 0.6400\n",
      "Epoch 36/50\n",
      " - 0s - loss: 0.9258 - accuracy: 0.6400\n",
      "Epoch 37/50\n",
      " - 0s - loss: 0.9157 - accuracy: 0.6500\n",
      "Epoch 38/50\n",
      " - 0s - loss: 0.9057 - accuracy: 0.6700\n",
      "Epoch 39/50\n",
      " - 0s - loss: 0.8959 - accuracy: 0.6800\n",
      "Epoch 40/50\n",
      " - 0s - loss: 0.8860 - accuracy: 0.6800\n",
      "Epoch 41/50\n",
      " - 0s - loss: 0.8761 - accuracy: 0.6900\n",
      "Epoch 42/50\n",
      " - 0s - loss: 0.8663 - accuracy: 0.6800\n",
      "Epoch 43/50\n",
      " - 0s - loss: 0.8561 - accuracy: 0.6900\n",
      "Epoch 44/50\n",
      " - 0s - loss: 0.8464 - accuracy: 0.6700\n",
      "Epoch 45/50\n",
      " - 0s - loss: 0.8365 - accuracy: 0.6500\n",
      "Epoch 46/50\n",
      " - 0s - loss: 0.8258 - accuracy: 0.6500\n",
      "Epoch 47/50\n",
      " - 0s - loss: 0.8160 - accuracy: 0.6500\n",
      "Epoch 48/50\n",
      " - 0s - loss: 0.8065 - accuracy: 0.6500\n",
      "Epoch 49/50\n",
      " - 0s - loss: 0.7963 - accuracy: 0.6500\n",
      "Epoch 50/50\n",
      " - 0s - loss: 0.7867 - accuracy: 0.6500\n"
     ]
    },
    {
     "data": {
      "text/plain": [
       "<keras.callbacks.callbacks.History at 0x2c9281ec808>"
      ]
     },
     "execution_count": 23,
     "metadata": {},
     "output_type": "execute_result"
    }
   ],
   "source": [
    "model.fit(scaled_X_train,y_train,epochs=50,verbose=2) #epoch is input,verbose is output information"
   ]
  },
  {
   "cell_type": "code",
   "execution_count": null,
   "metadata": {},
   "outputs": [],
   "source": []
  },
  {
   "cell_type": "code",
   "execution_count": null,
   "metadata": {},
   "outputs": [],
   "source": []
  },
  {
   "cell_type": "code",
   "execution_count": null,
   "metadata": {},
   "outputs": [],
   "source": []
  }
 ],
 "metadata": {
  "kernelspec": {
   "display_name": "Python 3",
   "language": "python",
   "name": "python3"
  },
  "language_info": {
   "codemirror_mode": {
    "name": "ipython",
    "version": 3
   },
   "file_extension": ".py",
   "mimetype": "text/x-python",
   "name": "python",
   "nbconvert_exporter": "python",
   "pygments_lexer": "ipython3",
   "version": "3.7.4"
  }
 },
 "nbformat": 4,
 "nbformat_minor": 2
}
