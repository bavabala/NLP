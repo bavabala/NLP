{
 "cells": [
  {
   "cell_type": "code",
   "execution_count": 1,
   "metadata": {},
   "outputs": [],
   "source": [
    "import spacy"
   ]
  },
  {
   "cell_type": "code",
   "execution_count": 2,
   "metadata": {},
   "outputs": [],
   "source": [
    "nlp = spacy.load('en_core_web_sm')"
   ]
  },
  {
   "cell_type": "code",
   "execution_count": 4,
   "metadata": {},
   "outputs": [
    {
     "name": "stdout",
     "output_type": "stream",
     "text": [
      "{'however', 'five', 'under', 'serious', 'below', 'been', 'we', 'above', 'via', 'hundred', 'most', 'sixty', 'too', 'whereby', '’ll', 'other', 'ourselves', 'please', 'toward', 'others', '‘re', \"'m\", 'seem', 'n’t', 'part', 'his', 'therefore', 'among', 'nobody', 'what', 'himself', 'show', 'about', 'see', 'since', '’ve', 'bottom', 'although', '‘d', 'whose', 'nothing', 'neither', 'once', 'then', 'this', '’re', 'almost', 'together', 'therein', 'up', 'herself', 'each', 'mostly', 'whatever', 'your', 'their', 'seemed', 'none', 'indeed', 'whereupon', 'move', 'amount', 'nowhere', 'from', 'three', 'across', 'besides', 'ever', 'of', 'nor', 'somehow', 'beyond', 'often', 'twelve', 'done', 'these', 'could', 'always', 'ca', 'put', 'her', \"'d\", 'really', 'never', 'many', 'else', 'though', 'twenty', 'thru', 'she', 'both', '‘s', 'not', 'only', 'am', 'former', 'the', 'any', 'anyone', 'becoming', 'in', 'throughout', 'hereafter', 'make', 'or', 'themselves', 'along', 'where', 'itself', '‘m', 'no', 'me', 'alone', 'keep', 'became', 'whither', 'whence', 'further', 'us', 'our', 'until', 'may', 'my', 'meanwhile', 'has', 'towards', 'call', 'anyway', 'beforehand', 'fifteen', 'already', 'cannot', 'now', 'herein', 'enough', 'hers', '‘ll', 'thereupon', 'around', 'elsewhere', 'have', 'latter', 'more', 'just', 'for', 'out', 'few', 'either', 'still', 'namely', 'whenever', \"'ve\", 'during', 'per', 'thus', 're', 'wherein', 'being', 'will', 'anywhere', 'did', \"'s\", 'must', 'beside', 'was', 'otherwise', 'get', 'whereas', 'nine', 'hereby', 'doing', 'hereupon', 'if', 'say', 'four', 'empty', 'whereafter', 'do', 'whom', 'everything', 'him', 'ten', 'through', 'last', 'moreover', 'become', 'thereafter', 'perhaps', 'regarding', 'is', 'that', 'without', 'before', '’d', 'seeming', 'be', 'somewhere', 'they', 'it', 'there', 'yours', 'used', 'should', 'wherever', 'i', 'third', 'with', 'top', 'side', 'whole', 'even', 'all', 'might', 'hence', 'whoever', 'same', 'two', 'due', 'onto', 'own', 'here', 'sometime', 'everywhere', 'yourself', 'ours', 'someone', 'back', 'but', 'forty', 'various', 'anyhow', 'yourselves', 'quite', 'using', 'at', 'noone', 'off', 'whether', 'some', 'seems', 'take', 'anything', 'everyone', 'so', 'full', 'eight', 'every', 'than', 'mine', 'latterly', 'on', 'unless', '’m', 'were', \"'re\", 'next', 'less', 'sometimes', 'you', 'very', 'first', 'them', 'after', 'name', 'against', 'rather', 'into', 'by', 'thence', 'which', 'except', 'well', 'eleven', 'because', 'over', 'upon', 'one', 'to', 'can', 'six', 'becomes', 'much', 'give', 'within', 'are', 'as', 'another', 'also', 'behind', 'would', '’s', 'an', 'does', 'fifty', 'when', 'go', 'down', 'between', 'a', 'amongst', 'such', 'thereby', 'he', 'n‘t', 'had', 'yet', 'how', 'something', 'while', \"n't\", 'made', 'afterwards', 'again', 'front', '‘ve', 'several', 'why', 'its', 'myself', 'those', 'nevertheless', 'and', 'least', 'formerly', 'who', \"'ll\"}\n"
     ]
    }
   ],
   "source": [
    "print(nlp.Defaults.stop_words)"
   ]
  },
  {
   "cell_type": "code",
   "execution_count": 5,
   "metadata": {},
   "outputs": [
    {
     "data": {
      "text/plain": [
       "326"
      ]
     },
     "execution_count": 5,
     "metadata": {},
     "output_type": "execute_result"
    }
   ],
   "source": [
    "len(nlp.Defaults.stop_words)"
   ]
  },
  {
   "cell_type": "code",
   "execution_count": 11,
   "metadata": {},
   "outputs": [
    {
     "data": {
      "text/plain": [
       "True"
      ]
     },
     "execution_count": 11,
     "metadata": {},
     "output_type": "execute_result"
    }
   ],
   "source": [
    "nlp.vocab['is'].is_stop"
   ]
  },
  {
   "cell_type": "code",
   "execution_count": 12,
   "metadata": {},
   "outputs": [],
   "source": [
    "nlp.Defaults.stop_words.add('btw')"
   ]
  },
  {
   "cell_type": "code",
   "execution_count": 13,
   "metadata": {},
   "outputs": [],
   "source": [
    "nlp.vocab['btw'].is_stop = True"
   ]
  },
  {
   "cell_type": "code",
   "execution_count": 15,
   "metadata": {},
   "outputs": [
    {
     "data": {
      "text/plain": [
       "True"
      ]
     },
     "execution_count": 15,
     "metadata": {},
     "output_type": "execute_result"
    }
   ],
   "source": [
    "nlp.vocab['btw'].is_stop"
   ]
  },
  {
   "cell_type": "code",
   "execution_count": 16,
   "metadata": {},
   "outputs": [],
   "source": [
    "nlp.Defaults.stop_words.remove('beyond')"
   ]
  },
  {
   "cell_type": "code",
   "execution_count": 17,
   "metadata": {},
   "outputs": [],
   "source": [
    "nlp.vocab['beyond'].is_stop = False"
   ]
  },
  {
   "cell_type": "code",
   "execution_count": 19,
   "metadata": {},
   "outputs": [
    {
     "data": {
      "text/plain": [
       "False"
      ]
     },
     "execution_count": 19,
     "metadata": {},
     "output_type": "execute_result"
    }
   ],
   "source": [
    "nlp.vocab['beyond'].is_stop "
   ]
  },
  {
   "cell_type": "code",
   "execution_count": 22,
   "metadata": {},
   "outputs": [],
   "source": [
    "from spacy.matcher import PhraseMatcher"
   ]
  },
  {
   "cell_type": "code",
   "execution_count": 23,
   "metadata": {},
   "outputs": [],
   "source": [
    "matcher = PhraseMatcher(nlp.vocab)"
   ]
  },
  {
   "cell_type": "code",
   "execution_count": 25,
   "metadata": {},
   "outputs": [
    {
     "ename": "SyntaxError",
     "evalue": "invalid syntax (<ipython-input-25-3af7411147d8>, line 1)",
     "output_type": "error",
     "traceback": [
      "\u001b[1;36m  File \u001b[1;32m\"<ipython-input-25-3af7411147d8>\"\u001b[1;36m, line \u001b[1;32m1\u001b[0m\n\u001b[1;33m    with open('../python/wine.csv')\u001b[0m\n\u001b[1;37m                                   ^\u001b[0m\n\u001b[1;31mSyntaxError\u001b[0m\u001b[1;31m:\u001b[0m invalid syntax\n"
     ]
    }
   ],
   "source": [
    "with open('../python/wine.csv')"
   ]
  },
  {
   "cell_type": "code",
   "execution_count": null,
   "metadata": {},
   "outputs": [],
   "source": []
  }
 ],
 "metadata": {
  "kernelspec": {
   "display_name": "Python 3",
   "language": "python",
   "name": "python3"
  },
  "language_info": {
   "codemirror_mode": {
    "name": "ipython",
    "version": 3
   },
   "file_extension": ".py",
   "mimetype": "text/x-python",
   "name": "python",
   "nbconvert_exporter": "python",
   "pygments_lexer": "ipython3",
   "version": "3.7.4"
  }
 },
 "nbformat": 4,
 "nbformat_minor": 2
}
